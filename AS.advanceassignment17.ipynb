{
 "cells": [
  {
   "cell_type": "markdown",
   "id": "a366b2a9",
   "metadata": {},
   "source": [
    "#1)EXPLAIN THE DIFFERENCE BETWEEN GREEDY AND NON-GREEDY SYNTAX WITH THE VISUAL TERMS IN AS FEW WORDS \n",
    "#AS POSSIBLE.WHAT IS THE BARE MINIMUM EFFORT REQUIRED TO TRANSFORM A GREEDY PATTERN INTO A NON-GREEDY\n",
    "#ONE?WHAT CHARACTERS OR CHARACTERS CAN YOU INTRODUCE OR CHANGE?"
   ]
  },
  {
   "cell_type": "code",
   "execution_count": null,
   "id": "97a9a1ef",
   "metadata": {},
   "outputs": [],
   "source": [
    "'''The Main difference between Greedy and Non Greedy Match Syntax is The Greedy Match will try to match as many repetitions\n",
    "of the quantified pattern as possible Whereas The Non Greedy Match will try to match as few repetitions of the quantified\n",
    "pattern as possible.'''"
   ]
  },
  {
   "cell_type": "code",
   "execution_count": 7,
   "id": "2923e3bc",
   "metadata": {},
   "outputs": [
    {
     "name": "stdout",
     "output_type": "stream",
     "text": [
      "['vvvvvv', '']\n",
      "['', 'v', '', 'v', '', 'v', '', 'v', '', 'v', '', 'v', '']\n"
     ]
    }
   ],
   "source": [
    "import re\n",
    "print(re.findall(\"v*\", \"vvvvvv\")) # Greedy Match Synatx\n",
    "print(re.findall(\"v*?\", \"vvvvvv\")) # Non Greddy Syntax"
   ]
  },
  {
   "cell_type": "markdown",
   "id": "d285e6f5",
   "metadata": {},
   "source": [
    "#When exactly does greedy versus non-greedy make a difference?\n",
    "#What if you're looking for a non-greedy match but the only one available is greedy?"
   ]
  },
  {
   "cell_type": "code",
   "execution_count": null,
   "id": "70a5aa94",
   "metadata": {},
   "outputs": [],
   "source": [
    "#The Greedy Match will try to match as many repetitions of the quantified pattern as possible. The Non Greedy Match will try \n",
    "#to match as few repetitions of the quantified pattern as possible. If only Non Greedy Match is available,\n",
    "#we can use other filtering or pattern matching methods of regex and further identify the required pattern."
   ]
  },
  {
   "cell_type": "markdown",
   "id": "ec02c56d",
   "metadata": {},
   "source": [
    " #3)In a simple match of a string, which looks only for one match and does not do any replacement, is the use of a \n",
    " nontagged group likely to make any practical difference?"
   ]
  },
  {
   "cell_type": "code",
   "execution_count": null,
   "id": "0ed3f50c",
   "metadata": {},
   "outputs": [],
   "source": [
    "'''In this Case The Non Tagged Group will not make any diffrence in this case.'''"
   ]
  },
  {
   "cell_type": "code",
   "execution_count": 8,
   "id": "b1390bd7",
   "metadata": {},
   "outputs": [
    {
     "name": "stdout",
     "output_type": "stream",
     "text": [
      "Phone number found -> 234\n",
      "Phone number found -> 234\n"
     ]
    }
   ],
   "source": [
    "import re\n",
    "phoneNumRegex = re.compile(r'\\d\\d\\d')\n",
    "num = phoneNumRegex.search('My number is 234-567-8901.')\n",
    "print(f'Phone number found -> {num.group()}') # Non Tagged group\n",
    "print(f'Phone number found -> {num.group(0)}') # Tagged Group"
   ]
  },
  {
   "cell_type": "markdown",
   "id": "d0a68599",
   "metadata": {},
   "source": [
    "#4)Describe the scenario in which using a nontagged categary would have a significant impact on the program's outcomes."
   ]
  },
  {
   "cell_type": "code",
   "execution_count": null,
   "id": "5998992f",
   "metadata": {},
   "outputs": [],
   "source": [
    "#Here in the below Code Snippet . decimal is not tagged or captured. It will useful in scenarios\n",
    "#where the separator of value in a string is of no use and we need to capture only the values."
   ]
  },
  {
   "cell_type": "code",
   "execution_count": 9,
   "id": "a2fa85a3",
   "metadata": {},
   "outputs": [
    {
     "data": {
      "text/plain": [
       "('135', '456')"
      ]
     },
     "execution_count": 9,
     "metadata": {},
     "output_type": "execute_result"
    }
   ],
   "source": [
    "import re\n",
    "text='135.456'\n",
    "pattern=r'(\\d+)(?:.)(\\d+)'\n",
    "regobj=re.compile(pattern)\n",
    "matobj=regobj.search(text)\n",
    "matobj.groups()"
   ]
  },
  {
   "cell_type": "code",
   "execution_count": null,
   "id": "1ffa6af4",
   "metadata": {},
   "outputs": [],
   "source": [
    "#5)Unlike a normal regex pattern,a look-ahead condition does not consume the characters it examines.\n",
    "# Describe a situation in which this could make a difference in the results of your programme ?"
   ]
  },
  {
   "cell_type": "code",
   "execution_count": null,
   "id": "97c336bd",
   "metadata": {},
   "outputs": [],
   "source": [
    "'''While counting the number of multiple lines or mutiple sentence in a string the positive look ahead makes a difference,\n",
    "without which we wont get the correct count of lines or sentences in a string.'''"
   ]
  },
  {
   "cell_type": "code",
   "execution_count": null,
   "id": "ed9ec484",
   "metadata": {},
   "outputs": [],
   "source": [
    "#6)In standard expressions, what is the difference between positive look-ahead and negative look-ahead ?"
   ]
  },
  {
   "cell_type": "code",
   "execution_count": null,
   "id": "376fa866",
   "metadata": {},
   "outputs": [],
   "source": [
    "'''Positive Lookahead allows to add a condition for what follows. Negative Lookahead is similar, but it looks behind. \n",
    "That is, it allows to match a pattern only if there’s something before it.'''"
   ]
  },
  {
   "cell_type": "code",
   "execution_count": null,
   "id": "7687d556",
   "metadata": {},
   "outputs": [],
   "source": [
    "#7)What is the benefit of referring to groups by name rather than by number in a standard expression?"
   ]
  },
  {
   "cell_type": "code",
   "execution_count": null,
   "id": "d8d0b074",
   "metadata": {},
   "outputs": [],
   "source": [
    "'''Referring to groups by name rather than by number in a standard expression helps to keep the code clear and easy to understand.'''"
   ]
  },
  {
   "cell_type": "code",
   "execution_count": null,
   "id": "48699578",
   "metadata": {},
   "outputs": [],
   "source": [
    "#8)Can you identify repeated items within a target string using named groups, as in \"The cow jumped over the moon\"?"
   ]
  },
  {
   "cell_type": "code",
   "execution_count": 10,
   "id": "0f56acb9",
   "metadata": {},
   "outputs": [
    {
     "data": {
      "text/plain": [
       "['The', 'the']"
      ]
     },
     "execution_count": 10,
     "metadata": {},
     "output_type": "execute_result"
    }
   ],
   "source": [
    "import re\n",
    "text = \"The cow jumped over the moon\"\n",
    "regobj=re.compile(r'(?P<w1>The)',re.I)\n",
    "regobj.findall(text)\n",
    "['The', 'the']"
   ]
  },
  {
   "cell_type": "code",
   "execution_count": null,
   "id": "0c2f8920",
   "metadata": {},
   "outputs": [],
   "source": [
    "#9)When parsing a string, what is at least one thing that the Scanner interface does for you that the re.findall feature \n",
    "#does not ?"
   ]
  },
  {
   "cell_type": "code",
   "execution_count": null,
   "id": "195eeed0",
   "metadata": {},
   "outputs": [],
   "source": [
    "'''re.findall() module is used to search for all occurrences that match a given pattern. In contrast, re.search() will only\n",
    "return the first occurrence that matches the specified pattern. re.findall() will iterate over all the lines of the file \n",
    "and will return all non-overlapping matches of pattern in a single step.'''"
   ]
  },
  {
   "cell_type": "code",
   "execution_count": null,
   "id": "bcda6b19",
   "metadata": {},
   "outputs": [],
   "source": [
    "#10)Does a scanner object have to be named scanner?"
   ]
  },
  {
   "cell_type": "code",
   "execution_count": null,
   "id": "69c099a5",
   "metadata": {},
   "outputs": [],
   "source": [
    "Yes,it may have any name."
   ]
  }
 ],
 "metadata": {
  "kernelspec": {
   "display_name": "Python 3 (ipykernel)",
   "language": "python",
   "name": "python3"
  },
  "language_info": {
   "codemirror_mode": {
    "name": "ipython",
    "version": 3
   },
   "file_extension": ".py",
   "mimetype": "text/x-python",
   "name": "python",
   "nbconvert_exporter": "python",
   "pygments_lexer": "ipython3",
   "version": "3.9.7"
  }
 },
 "nbformat": 4,
 "nbformat_minor": 5
}
