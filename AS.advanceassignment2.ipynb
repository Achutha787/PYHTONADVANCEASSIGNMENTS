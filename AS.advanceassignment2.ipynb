{
 "cells": [
  {
   "cell_type": "code",
   "execution_count": null,
   "id": "b61d5281",
   "metadata": {},
   "outputs": [],
   "source": [
    "Q1. What is the relationship between classes and modules?\n",
    "\n",
    "        CLASS IS LIKE AN OUTLINE OR BLUEPRINT FOR CREATING AN OBJECT.AN OBJECT CAN BE MANIPULATED OR CHANGED \n",
    "        DURING THE WORKING OF THE CODE.\n",
    "        \n",
    "        WHEREAS, MODULES IN PYTHON ARE SIMPLY FILES WITH .PY EXTENSION CONTAINING THE PYTHON CODE THAT CAN BE \n",
    "        IMPORTED INSIDE ANOTHER PYTHON PROGRAM.IT CAN CONTAIN A SET OF FUNCTIONS OR CLASSES THROUGH WHICH ONE CAN RUN AN\n",
    "        APPLICATION BY IMPORTING THE MODULE."
   ]
  },
  {
   "cell_type": "code",
   "execution_count": 7,
   "id": "6856385c",
   "metadata": {},
   "outputs": [
    {
     "name": "stdout",
     "output_type": "stream",
     "text": [
      "this is my employee\n"
     ]
    }
   ],
   "source": [
    "#Q2. How do you make instances and classes?\n",
    "\n",
    "class audiemployees():\n",
    "    def __init__(self,name,age):\n",
    "        self.name = name\n",
    "        self.age = age\n",
    "        print(\"this is my employee\")\n",
    "chennai=audiemployees(\"achutha\",36)        \n",
    "#In this above example,audiemployees is the classs where name and age attribues are initialised through the init method.\n",
    "#class is created by class followed by classname():\n",
    "#chennai is the instance object of the audiemployees class with attributes name 'achutha' and age 36\n",
    "#instance object is created by calling the class name and pass the arguments which __init__ method accepts"
   ]
  },
  {
   "cell_type": "code",
   "execution_count": 21,
   "id": "1d590e4c",
   "metadata": {},
   "outputs": [
    {
     "name": "stdout",
     "output_type": "stream",
     "text": [
      "this is my employee\n"
     ]
    },
    {
     "data": {
      "text/plain": [
       "1045"
      ]
     },
     "execution_count": 21,
     "metadata": {},
     "output_type": "execute_result"
    }
   ],
   "source": [
    "#3)Q3. Where and how should be class attributes created?\n",
    "#       CLASS ATTRIBUTES BELONG TO CLASS ITSELF.BUT,IT CAN BE USED BY ALL THE INSTANCE OBJECTS OF THE CLASS.SO, IT MUST\n",
    "#       BE WRITTEN OUTSIDE ALL THESE METHODS AT THE TOP ALONG WITH CLASS.\n",
    "#example\n",
    "class audiemployees():\n",
    "    overall_employees =1045; #this a class attribute\n",
    "    def __init__(self,name,age):\n",
    "        self.name = name\n",
    "        self.age = age\n",
    "        print(\"this is my employee\")\n",
    "chennai=audiemployees(\"achutha\",36) \n",
    "audiemployees.overall_employees"
   ]
  },
  {
   "cell_type": "code",
   "execution_count": null,
   "id": "5a82439f",
   "metadata": {},
   "outputs": [],
   "source": [
    "Q4. Where and how are instance attributes created?\n",
    "# Instance attributes are possed to class when instance object is created.Instance attributes are not shared by all the \n",
    "#objects of all class.Usually instance objected or initialised by __init__ method of class\n",
    "#example\n",
    "class audiemployees():\n",
    "    def __init__(self,name,age):\n",
    "        self.name = name#this is an instance attribute\n",
    "        self.age = age#thus is an instance attribute\n",
    "        print(\"this is my employee\")"
   ]
  },
  {
   "cell_type": "code",
   "execution_count": 22,
   "id": "56cbff47",
   "metadata": {},
   "outputs": [],
   "source": [
    "#Q5. What does the term \"self\" in a Python class mean?\n",
    "#SELF represents the instance of the class.By using the SELF,we can access the attributes and methods of the class with in\n",
    "#the class in python.It binds the attributes with the given arguments."
   ]
  },
  {
   "cell_type": "code",
   "execution_count": null,
   "id": "a50eb5af",
   "metadata": {},
   "outputs": [],
   "source": [
    "#Q6. How does a Python class handle operator overloading?\n",
    "# python classes handle operator overloading by using special methods known as magic methods.These special methods begins\n",
    "# and ends with __(double underscore).Magic methods for arithmetic operators are \n",
    "#'+'  addition,\n",
    "#'-'  substraction\n",
    "#'*'  multiplication\n",
    "#'/'  division"
   ]
  },
  {
   "cell_type": "code",
   "execution_count": 25,
   "id": "51e13a4b",
   "metadata": {},
   "outputs": [
    {
     "name": "stdout",
     "output_type": "stream",
     "text": [
      "The total number of pages in 2 books is 300\n"
     ]
    }
   ],
   "source": [
    "class Book:\n",
    "    def __init__(self,pages):\n",
    "        self.pages = pages\n",
    "    def __add__(self,other):\n",
    "        return self.pages + other.pages\n",
    "b1 = Book(100)\n",
    "b2 = Book(200)\n",
    "print(f'The total number of pages in 2 books is {b1+b2}')"
   ]
  },
  {
   "cell_type": "code",
   "execution_count": null,
   "id": "149ba2a2",
   "metadata": {},
   "outputs": [],
   "source": [
    "#7)When do you consider allowing operator overloading of your classes?\n",
    "# when we want to have different meaning for the same operator according to context we use operator overloading"
   ]
  },
  {
   "cell_type": "code",
   "execution_count": null,
   "id": "3a93ec6e",
   "metadata": {},
   "outputs": [],
   "source": [
    "#8)What is the most popular form of operator overloading?\n",
    "#The most popular form of operator overloading in python is by special methods called Magic methods.\n",
    "# Which usually beign and end with double underscore __<method name>__"
   ]
  },
  {
   "cell_type": "code",
   "execution_count": null,
   "id": "99b750a3",
   "metadata": {},
   "outputs": [],
   "source": [
    "#Q9. What are the two most important concepts to grasp in order to comprehend Python OOP code?\n",
    "#Classes and Objects are the two concepts to comprehend python in oop code as formally objects are entities that represents \n",
    "#instances of general abstract concept called class\n",
    "#The other important concepts to grasp are inheritance,polymorphism,abstraction and encapsulation"
   ]
  }
 ],
 "metadata": {
  "kernelspec": {
   "display_name": "Python 3 (ipykernel)",
   "language": "python",
   "name": "python3"
  },
  "language_info": {
   "codemirror_mode": {
    "name": "ipython",
    "version": 3
   },
   "file_extension": ".py",
   "mimetype": "text/x-python",
   "name": "python",
   "nbconvert_exporter": "python",
   "pygments_lexer": "ipython3",
   "version": "3.9.7"
  }
 },
 "nbformat": 4,
 "nbformat_minor": 5
}
