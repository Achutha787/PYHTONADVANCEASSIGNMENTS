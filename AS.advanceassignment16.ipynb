{
 "cells": [
  {
   "cell_type": "markdown",
   "id": "deffb8d4",
   "metadata": {},
   "source": [
    "#1)WHAT IS THE BENIFIT OF THE REGULAR EXPRESSIONS?"
   ]
  },
  {
   "cell_type": "code",
   "execution_count": 1,
   "id": "cd0eb9fd",
   "metadata": {},
   "outputs": [
    {
     "data": {
      "text/plain": [
       "'Regular Expressions are known as Regex or Regexp which are used to match strings of particular characters or text or pattern\\nof characters.It means we match and extract any sting patterns with the help of regular expressions.It helps programmers to \\nwrite less and cleaner code.It also avoids the multiple use of if/else statements.'"
      ]
     },
     "execution_count": 1,
     "metadata": {},
     "output_type": "execute_result"
    }
   ],
   "source": [
    "'''Regular Expressions are known as Regex or Regexp which are used to match strings of particular characters or text or pattern\n",
    "of characters.It means we match and extract any sting patterns with the help of regular expressions.It helps programmers to \n",
    "write less and cleaner code.It also avoids the multiple use of if/else statements.'''"
   ]
  },
  {
   "cell_type": "markdown",
   "id": "5c909ca4",
   "metadata": {},
   "source": [
    "#2)DESCRIBE THE DIFFERENCE BETWEEN THE EFFECTS OF \"(ab)c+\" and \"a(bc)+\".WHICH OF THESE,IF ANY ,IS UNQUALIFIED PATTERN\"abc+\"?"
   ]
  },
  {
   "cell_type": "code",
   "execution_count": 3,
   "id": "8f843d86",
   "metadata": {},
   "outputs": [
    {
     "data": {
      "text/plain": [
       "'Both of these patterns are valid.The difference between the two is In \"(ab)c+\",ab is a group,whereas In \"a(bc)+\",bc is a group.'"
      ]
     },
     "execution_count": 3,
     "metadata": {},
     "output_type": "execute_result"
    }
   ],
   "source": [
    "'''Both of these patterns are valid.The difference between the two is In \"(ab)c+\",ab is a group,whereas In \"a(bc)+\",bc is a group.'''"
   ]
  },
  {
   "cell_type": "markdown",
   "id": "1470a480",
   "metadata": {},
   "source": [
    "#3)How much do you use the following sentence while using the regular expression?"
   ]
  },
  {
   "cell_type": "code",
   "execution_count": 5,
   "id": "5260b9b4",
   "metadata": {},
   "outputs": [
    {
     "data": {
      "text/plain": [
       "'import re statement has to be always imported before using regular expression everytime.'"
      ]
     },
     "execution_count": 5,
     "metadata": {},
     "output_type": "execute_result"
    }
   ],
   "source": [
    "'''import re statement has to be always imported before using regular expression everytime.'''"
   ]
  },
  {
   "cell_type": "markdown",
   "id": "4cc798b2",
   "metadata": {},
   "source": [
    "#4)which characters have special significance in square brackets when expressing a range,and under what circumstances?"
   ]
  },
  {
   "cell_type": "code",
   "execution_count": 6,
   "id": "7aeac932",
   "metadata": {},
   "outputs": [
    {
     "data": {
      "text/plain": [
       "'The characters .,*,?,^,or () have special significance when used within the square brackets.They need not to be explicitly\\nused with the / as in case of pattern texts in the raw string'"
      ]
     },
     "execution_count": 6,
     "metadata": {},
     "output_type": "execute_result"
    }
   ],
   "source": [
    "'''The characters .,*,?,^,or () have special significance when used within the square brackets.They need not to be explicitly\n",
    "used with the / as in case of pattern texts in the raw string'''"
   ]
  },
  {
   "cell_type": "markdown",
   "id": "314d8060",
   "metadata": {},
   "source": [
    "#5)HOW DOES THE COMPILING REGULAR EXPRESSIONS BENIFIT YOU?"
   ]
  },
  {
   "cell_type": "code",
   "execution_count": null,
   "id": "838eff4f",
   "metadata": {},
   "outputs": [],
   "source": [
    "'''WE can combine the regular  expression with pattern objects which can be used for pattern matching.It also helps to search\n",
    "a pattern again without rewriting it'''"
   ]
  },
  {
   "cell_type": "markdown",
   "id": "2a629458",
   "metadata": {},
   "source": [
    "#6)WHAT ARE SOME EXAMPLES OF HOW TO USE THE MATCH OBJECT RETURNED BY THE re.match and re.search?"
   ]
  },
  {
   "cell_type": "code",
   "execution_count": null,
   "id": "ca49b423",
   "metadata": {},
   "outputs": [],
   "source": [
    "'''The re.search() and re.match() both are functions of re module in python. These functions are very efficient and fast for searching in strings. The function searches for some substring in a string and \n",
    "returns a match object if found, else it returns none.\n",
    "There is a difference between the use of both functions. Both return the first match of a substring found in the string,\n",
    "but re.match() searches only from the beginning of the string and return match object if found. But if a match of substring\n",
    "is found somewhere in the middle of the string,it returns none.\n",
    "While re.search() searches for the whole string even if the string contains multi-lines and tries to find a match of the \n",
    "substring in all the lines of string'''"
   ]
  },
  {
   "cell_type": "code",
   "execution_count": 9,
   "id": "e2b3da76",
   "metadata": {},
   "outputs": [
    {
     "name": "stdout",
     "output_type": "stream",
     "text": [
      "<re.Match object; span=(66, 68), match='st'>\n",
      "None\n",
      "<re.Match object; span=(0, 2), match='st'>\n",
      "<re.Match object; span=(0, 2), match='st'>\n"
     ]
    }
   ],
   "source": [
    "import re\n",
    "Substring ='st' \n",
    "String1 ='We are learning regex with geeksforgeeks regex is very useful for string matching. It is fast too.' \n",
    "String2 ='string We are learning regex with geeksforgeeks regex is very useful for string matching. It is fast too.'\n",
    "print(re.search(Substring, String1, re.IGNORECASE))\n",
    "print(re.match(Substring, String1, re.IGNORECASE))\n",
    "print(re.search(Substring, String2, re.IGNORECASE))\n",
    "print(re.match(Substring, String2, re.IGNORECASE))"
   ]
  },
  {
   "cell_type": "markdown",
   "id": "57d8a795",
   "metadata": {},
   "source": [
    "#7)WHAT IS THE DIFFERENCE BETWEEN USING A VERTICAL BAR(|) AS AN ALTERATION AND USING SQUARE BRACKETS AS A CHARACTER SET?"
   ]
  },
  {
   "cell_type": "code",
   "execution_count": null,
   "id": "0b06a0ef",
   "metadata": {},
   "outputs": [],
   "source": [
    "'''When | us used then patterns searches for or option. i.e <pattern_1>|<pattern_2> means it searches as <pattern_1>or<<pattern_2> \n",
    "in the searched string. the first occurance of matched string will be returned as the Match Object. Using Character \n",
    "set in square Brackets searches for all the character set in the square bracket and if match is found, it returns it.'''"
   ]
  },
  {
   "cell_type": "markdown",
   "id": "3bde7134",
   "metadata": {},
   "source": [
    "#8)In regular-expression search patterns,why is it necessary to use the raw-string indicator (r)? In replacement strings?"
   ]
  },
  {
   "cell_type": "code",
   "execution_count": null,
   "id": "5672081c",
   "metadata": {},
   "outputs": [],
   "source": [
    "'''Raw Strings are used in the regular-expression search patterns, so that blackslashes donot have to be escaped'''"
   ]
  }
 ],
 "metadata": {
  "kernelspec": {
   "display_name": "Python 3 (ipykernel)",
   "language": "python",
   "name": "python3"
  },
  "language_info": {
   "codemirror_mode": {
    "name": "ipython",
    "version": 3
   },
   "file_extension": ".py",
   "mimetype": "text/x-python",
   "name": "python",
   "nbconvert_exporter": "python",
   "pygments_lexer": "ipython3",
   "version": "3.9.7"
  }
 },
 "nbformat": 4,
 "nbformat_minor": 5
}
