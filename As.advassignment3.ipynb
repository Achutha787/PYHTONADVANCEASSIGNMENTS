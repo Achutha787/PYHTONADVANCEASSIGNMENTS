{
 "cells": [
  {
   "cell_type": "code",
   "execution_count": null,
   "id": "dd986553",
   "metadata": {},
   "outputs": [],
   "source": [
    "#1) What is the concept of an abstract superclass?\n",
    "# abstract superclass is can be considered as a blueprint for other classes. It allows you to create a set of methods that\n",
    "#must be created within any child classes built from the abstract class. A class which contains one or more abstract methods\n",
    "#is called an abstract class.\n",
    "#Whereas an abstract method is a method that has a declaration but does not have an implementation\n"
   ]
  },
  {
   "cell_type": "code",
   "execution_count": null,
   "id": "e786270a",
   "metadata": {},
   "outputs": [],
   "source": [
    "from abc import ABC,abstractmethod\n",
    "class Polygon(ABC): # Abstract Class\n",
    "    @abstractmethod\n",
    "    def noofsides(self): # Abstract Method\n",
    "        pass\n",
    "class Triangle(Polygon):\n",
    "    def noofsides(self):  # overriding abstract method in child class Triangle\n",
    "        print(\"I have 3 sides\")\n",
    "class Pentagon(Polygon):\n",
    "    def noofsides(self): # overriding abstract method in child class Pentagon\n",
    "        print(\"I have 5 sides\")"
   ]
  },
  {
   "cell_type": "code",
   "execution_count": null,
   "id": "bce9c9cc",
   "metadata": {},
   "outputs": [],
   "source": [
    "Triangle.noofsides(89)\n",
    "Pentagon.noofsides(88)"
   ]
  },
  {
   "cell_type": "code",
   "execution_count": null,
   "id": "a6fde384",
   "metadata": {},
   "outputs": [],
   "source": [
    "#2)What happens when a class statement's top level contains a basic assignment statement?\n",
    "#When a Class statement's top level contains a basic assignment statement, its usually treated as a class attribute or\n",
    "#class level variable.\n",
    "#where as assignment statements inside methods are treated as instance attributes or local attributes.\n"
   ]
  },
  {
   "cell_type": "code",
   "execution_count": null,
   "id": "9c6a85bd",
   "metadata": {},
   "outputs": [],
   "source": [
    "#example\n",
    "class employees:\n",
    "    groupname = 'AVIATORS' # class attribute\n",
    "    def __init__(self,name,gender):\n",
    "        self.name = name # instance attributes\n",
    "        self.gender = gender"
   ]
  },
  {
   "cell_type": "code",
   "execution_count": null,
   "id": "d2e9a669",
   "metadata": {},
   "outputs": [],
   "source": [
    "#3) Why does a class need to manually call a superclass's init method?\n",
    "# if a child class has __init__ method, then it will not inherit the __init__ method of the parent class.So,the __init__\n",
    "# method of the child class overrides the __init__ method of the parent class.\n",
    "# so we have to manually call a parent superclass's __init__ using super() method"
   ]
  },
  {
   "cell_type": "code",
   "execution_count": 2,
   "id": "5bf5d756",
   "metadata": {},
   "outputs": [
    {
     "name": "stdout",
     "output_type": "stream",
     "text": [
      "{'version': 2.2, 'y': 1986, 'realname': 'superman', 'age': 36}\n"
     ]
    }
   ],
   "source": [
    "#example()\n",
    "class superman():\n",
    "    def __init__(self,version,y):\n",
    "        self.version=version\n",
    "        self.y=y\n",
    "class spiderman(superman):\n",
    "    def __init__(self,version,y,realname,age):\n",
    "        super().__init__(version,y)\n",
    "        self.realname= realname\n",
    "        self.age= age\n",
    "man= spiderman(2.2,1986,'superman',36)\n",
    "print(man.__dict__)       "
   ]
  },
  {
   "cell_type": "code",
   "execution_count": null,
   "id": "b187bd0f",
   "metadata": {},
   "outputs": [],
   "source": [
    "#4)How can you augment, instead of completely replacing, an inherited method?\n",
    "#super() method can be used to augment, instead of completely replacing, an inherited method."
   ]
  },
  {
   "cell_type": "code",
   "execution_count": null,
   "id": "ca34b87f",
   "metadata": {},
   "outputs": [],
   "source": [
    "#example()\n",
    "class superman():\n",
    "    def __init__(self,version,y):\n",
    "        self.version=version\n",
    "        self.y=y\n",
    "class spiderman(superman):\n",
    "    def __init__(self,version,y,realname,age):\n",
    "        super().__init__(version,y)\n",
    "        self.realname= realname\n",
    "        self.age= age\n",
    "man= spiderman(2.2,1986,'superman',36)\n",
    "print(man.__dict__)  "
   ]
  },
  {
   "cell_type": "code",
   "execution_count": null,
   "id": "d2e49f47",
   "metadata": {},
   "outputs": [],
   "source": [
    "#5)How is the local scope of a class different from that of a function?\n",
    "# A Variable which is defined inside a function is local to that function. \n",
    "# it is accesible from the point at which it is defined until the end of the function, \n",
    "# and exists for as long as the function is existing.\n",
    "\n",
    "#Similary a variable inside of a class also has a local variable scope. \n",
    "#Variables which are defined in the class body (but outside all methods) are called as class level variables or class attributes.\n",
    "#they can be referenced by there bare names within the same scope, but they can also be accessed \n",
    "#from outside this scope if we use the attribute access operator (.). on a class or an instance of the class.\n"
   ]
  },
  {
   "cell_type": "code",
   "execution_count": 3,
   "id": "d7f4ca87",
   "metadata": {},
   "outputs": [
    {
     "name": "stdout",
     "output_type": "stream",
     "text": [
      "you're name is achutha\n",
      "Name varible is not available outside hello function scope\n",
      "audi\n",
      "audi\n"
     ]
    }
   ],
   "source": [
    "#example\n",
    "def hello(name):\n",
    "    name = name\n",
    "    print(f'you\\'re name is {name}')\n",
    "hello('achutha')\n",
    "try:\n",
    "    name\n",
    "except NameError:\n",
    "    print('Name varible is not available outside hello function scope')\n",
    "\n",
    "class Person:\n",
    "    employee = \"audi\"\n",
    "    def __init__(self):\n",
    "        pass\n",
    "print(Person.employee) # Accessing species using class name\n",
    "Male = Person()\n",
    "print(Male.employee) # Accessing species using instance of class"
   ]
  },
  {
   "cell_type": "code",
   "execution_count": null,
   "id": "9b7636bf",
   "metadata": {},
   "outputs": [],
   "source": []
  }
 ],
 "metadata": {
  "kernelspec": {
   "display_name": "Python 3 (ipykernel)",
   "language": "python",
   "name": "python3"
  },
  "language_info": {
   "codemirror_mode": {
    "name": "ipython",
    "version": 3
   },
   "file_extension": ".py",
   "mimetype": "text/x-python",
   "name": "python",
   "nbconvert_exporter": "python",
   "pygments_lexer": "ipython3",
   "version": "3.9.7"
  }
 },
 "nbformat": 4,
 "nbformat_minor": 5
}
